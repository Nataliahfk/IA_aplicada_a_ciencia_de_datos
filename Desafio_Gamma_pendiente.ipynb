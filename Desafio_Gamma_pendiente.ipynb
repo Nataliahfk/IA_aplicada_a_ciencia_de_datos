{
  "nbformat": 4,
  "nbformat_minor": 0,
  "metadata": {
    "colab": {
      "provenance": [],
      "authorship_tag": "ABX9TyN+5DWzQnrOunSxI7RQm0en",
      "include_colab_link": true
    },
    "kernelspec": {
      "name": "python3",
      "display_name": "Python 3"
    },
    "language_info": {
      "name": "python"
    }
  },
  "cells": [
    {
      "cell_type": "markdown",
      "metadata": {
        "id": "view-in-github",
        "colab_type": "text"
      },
      "source": [
        "<a href=\"https://colab.research.google.com/github/Nataliahfk/IA_aplicada_a_ciencia_de_datos/blob/main/Desafio_Gamma_pendiente.ipynb\" target=\"_parent\"><img src=\"https://colab.research.google.com/assets/colab-badge.svg\" alt=\"Open In Colab\"/></a>"
      ]
    },
    {
      "cell_type": "markdown",
      "source": [
        "#**Desafío: construyendo el informe con Gamma.app**"
      ],
      "metadata": {
        "id": "31mNOzPK4iPS"
      }
    },
    {
      "cell_type": "markdown",
      "source": [
        "Ha llegado el momento de crear el informe con los visuales que construimos a lo largo de este curso. Nuestro desafío es construir este informe en formato de presentación utilizando la IA de Gamma con el tema Informe de Ventas y Perfil de los Clientes de Zoop en 2023, presentando los gráficos y hallazgos generados durante las clases.\n",
        "\n",
        "Haz buen uso de los conceptos de identidad visual, accesibilidad y estética visual que abordamos a lo largo del curso, ya que situaciones como esta serán exploradas por empresas y clientes con los que tendrás contacto a lo largo de tu carrera.\n",
        "\n",
        "¿Vamos a aprender sobre la herramienta de Gamma y a realizar el desafío?\n",
        "\n",
        "Gamma.app\n",
        "\n",
        "Gamma.app es una herramienta en línea que crea diapositivas para presentaciones de manera práctica y fácil, basada en Inteligencia Artificial (IA). La aplicación transforma un comando de texto en una presentación completa, con una plantilla flexible y diversas posibilidades de edición. Además, Gamma ofrece la edición colaborativa, permitiendo que varias personas de un equipo trabajen juntas en el mismo material.\n",
        "\n",
        "La herramienta está disponible en línea, accesible a través del navegador, y en opciones gratuita y de pago. En el modo sin costo, se ofrece una cantidad específica de créditos no recargables, que permiten la creación y edición con la IA.\n",
        "\n",
        "- Primeros pasos\n",
        "\n",
        "Para comenzar a utilizar Gamma para la creación de nuestro informe, accedamos al sitio de la herramienta e iniciemos sesión, ya sea a través de una Cuenta de Google o un correo electrónico personal. Después de acceder, en el momento en que se grabó este curso, visualizamos la siguiente pantalla:\n"
      ],
      "metadata": {
        "id": "e7E8AU194udY"
      }
    },
    {
      "cell_type": "markdown",
      "source": [
        "Coloquemos un nombre para el espacio de trabajo; aquí utilizamos Zoop, y lo creamos. Luego, completaremos algunas informaciones solicitadas en el registro del sitio, como en la imagen a continuación:\n",
        "\n",
        "Después de este registro, seremos redirigidos a la página donde podemos elegir el modo de creación de la presentación. Optaremos por generar a partir de un prompt, como se destaca en la imagen a continuación:\n",
        "\n",
        "Ahora, comenzaremos el proceso de generación del informe. Optaremos por la opción de Presentación, definiremos 10 tarjetas (máximo en la versión gratuita) y el idioma Español. Luego, pasaremos el tema de la presentación Informe de Ventas y Perfil de los Clientes de Zoop en 2023 y haremos clic en Generar boceto, como se describe en la imagen siguiente:"
      ],
      "metadata": {
        "id": "Ha94eC8P5QTs"
      }
    },
    {
      "cell_type": "markdown",
      "source": [
        "A continuación, completaremos los títulos de las 10 diapositivas que vamos a producir. La IA genera algunos temas siguiendo las instrucciones del tema de la presentación, pero seguiremos la lista a continuación teniendo en cuenta los visuales que creamos en nuestro proyecto y en Manos a la obra de la Clase 04.\n",
        "\n",
        "Diapositivas:\n",
        "\n",
        "Introducción y objetivos del informe\n",
        "Visión general de las ventas por categoría de Zoop en 2023\n",
        "Visión general de las ventas por región en 2023\n",
        "Tendencia de las ventas a lo largo de los meses en 2023\n",
        "Métodos de pago más utilizados en 2023\n",
        "Ventas trimestrales versus método de pago\n",
        "Programa de cashback y Zoop Pay\n",
        "Evaluación de los productos\n",
        "Segmentación de clientes por rango de edad y sexo biológico\n",
        "Conclusiones\n",
        "La imagen a continuación muestra la inserción de los temas de las diapositivas:"
      ],
      "metadata": {
        "id": "l8vnisWv5XYj"
      }
    },
    {
      "cell_type": "markdown",
      "source": [
        "Por último, definiremos algunas configuraciones adicionales que respaldarán nuestra generación de diapositivas en Gamma. Dejaremos la cantidad de texto por tarjeta en Breve, las fuentes de las imágenes que llenan la diapositiva como Búsqueda de imágenes en la Web y licencia de imagen de Uso gratuito para el proyecto de tono educativo.\n",
        "\n",
        "Podemos notar, antes de aceptar las modificaciones, los créditos totales que poseemos (400 en la versión gratuita), seguidos de la cantidad de tarjetas (10) y junto al botón Continuar cuánto costará la generación de esta presentación.\n",
        "\n",
        "Al hacer clic en Continuar, se generará una versión inicial de la presentación que podemos modificar insertando imágenes, elementos, textos y realizando una serie de acciones para construir la presentación como deseamos.\n",
        "\n",
        "Siéntete libre de agregar textos y explicaciones a los visuales, haciendo que el documento sea aún más completo. Puedes crear tu propio tema, siguiendo los consejos y buenas prácticas de la plataforma descritos a continuación, o elegir uno de los temas predefinidos de Gamma.\n",
        "\n",
        "Temas\n",
        "\n",
        "Al crear una presentación en Gamma, defines un Tema para tu presentación, que puede ser personalizado.\n",
        "\n",
        "En la versión actual de Gamma hay seis opciones:\n",
        "\n",
        "1. Fondo del tema: aquí eliges cómo será el fondo detrás de tus tarjetas, que puede ser una imagen, un color sólido, un degradado, entre otras opciones.\n",
        "\n",
        "2. Estilos de tarjeta: define el color de fondo de la tarjeta misma. Los colores de tu texto se ajustarán automáticamente para tener contraste con el fondo de la tarjeta.\n",
        "\n",
        "También es posible decidir el Estilo de la tarjeta, que puede ser:\n",
        "\n",
        "Estándar, con bordes redondeados y sombras sutiles;\n",
        "Vidrio, con transparencia, teniendo efecto de vidrio mate;\n",
        "3D delicado, con bordes redondeados suaves y efecto 3D delicado;\n",
        "Elegante, con un diseño simple y minimalista con detalles divertidos;\n",
        "Soñar despierto, con grandes bordes redondeados, colores vibrantes y líneas gruesas;\n",
        "Rompehielos, con bordes limpios y colores monocromáticos profesionales.\n",
        "3. Colores de acento: Opción que presenta primero el color de acento principal, el cual puede ser solo un color o puede ser un degradado, con más de un color. Posteriormente, tenemos los colores de acento secundarios, que se aplicarán a elementos decorativos del tema, como divisores de tablas, líneas de tiempo, etc. Si no agregas ningún color de acento secundario, el principal o el degradado se utilizarán. También tenemos la legibilidad, ya que por defecto Gamma ajusta los colores para cumplir con las directrices de accesibilidad web, pero puedes desactivar esto para utilizar los colores como están.\n",
        "\n",
        "4. Imágenes destacadas: Las imágenes destacadas son aquellas que pueden asociarse con el tema y usarse como decoración en tus tarjetas.\n",
        "\n",
        "5. Fuentes: Aquí se determinan las familias tipográficas utilizadas en toda la presentación. También se puede configurar el estilo y el color de las fuentes de los títulos y del cuerpo.\n",
        "\n",
        "6. Logotipo: Es posible arrastrar el logotipo hasta el área de inserción o hacer clic para cargar tu logo.\n",
        "\n",
        "Modelos visuales\n",
        "\n",
        "Al disponer la información de tu presentación, Gamma utiliza modelos visuales listos. Pueden ser ajustados o creados desde cero manualmente en las diapositivas.\n",
        "\n",
        "Incorporarlos a la presentación es muy simple: Solo debes abrir el menú \"Modelos visuales\" y arrastrar lo que desees a la tarjeta.\n",
        "\n",
        "Los modelos son fácilmente editables. Puedes cambiar los textos, los íconos, así como redimensionar, eliminar y agregar elementos.\n",
        "\n",
        "Atajos útiles\n",
        "\n",
        "Gamma tiene algunos atajos que nos ayudan a tener un ritmo más fluido de creación. ¿Vamos a conocer algunos de ellos?\n",
        "\n",
        "Al hacer clic en cualquier tarjeta, tenemos tres puntos en la esquina superior izquierda, que permiten:\n",
        "\n",
        "Duplicar tarjeta: hace una copia de la tarjeta actual, que se creará debajo de la diapositiva actual.\n",
        "Copiar enlace de la tarjeta: tenemos acceso a la URL de la diapositiva para compartir.\n",
        "Eliminar: borra la tarjeta.\n",
        "Al duplicar una tarjeta surge un nuevo atajo:\n",
        "\n",
        "Fusionar con la tarjeta superior: combina la tarjeta superior e inferior en una sola.\n",
        "Al lado de los tres puntos, hay un ícono de paleta de colores.\n",
        "\n",
        "Al seleccionar la paleta de colores, tenemos:\n",
        "\n",
        "Tipo de diseño: son cinco opciones de configuración de la tarjeta;\n",
        "Imagen destacada: para editar y cambiar la imagen destacada de la tarjeta;\n",
        "Color de la tarjeta: es el color de fondo de la tarjeta;\n",
        "Tarjeta sin márgenes: la tarjeta ocupa toda la pantalla horizontalmente;\n",
        "Fondo: elige cómo será el espacio detrás de las tarjetas.\n",
        "Ahora que has leído las instrucciones del proyecto y aprendido algunas de las buenas prácticas para la creación del informe, ¿vamos a construirlo juntando todos los visuales que aprendimos en este curso?"
      ],
      "metadata": {
        "id": "3y5_1IN25YUM"
      }
    },
    {
      "cell_type": "markdown",
      "source": [
        "**Opinión del instructor**"
      ],
      "metadata": {
        "id": "5i880eeE5cnd"
      }
    },
    {
      "cell_type": "markdown",
      "source": [
        "Siguiendo el paso a paso inicial de esta actividad, logramos crear los espacios para llenar con gráficos y textos. En esta resolución, utilizamos un tema personalizado que llamamos Zoop. Las únicas modificaciones que se hicieron fueron:\n",
        "\n",
        "Estilos de tarjeta: con el color #EBEBEB y el estilo de tarjeta Quebra-gelo\n",
        "Colores de Destacado: con el color de destacado principal #19325C\n",
        "Logotipo: Logotipo de Zoop en este enlace\n",
        "Con las imágenes generadas durante la clase y en las actividades prácticas, generamos cada una de las diapositivas.\n",
        "\n",
        "Definimos el tema de la presentación como \"Informe de Ventas y Perfil de los Clientes de Zoop en 2023\" y seleccionamos los temas de la presentación, a continuación:\n",
        "\n",
        "Introducción y objetivos del informe\n",
        "Visión general de las ventas por categoría de Zoop en 2023\n",
        "Visión general de las ventas por región en 2023\n",
        "Tendencia de las ventas a lo largo de los meses en 2023\n",
        "Métodos de pago más utilizados en 2023\n",
        "Ventas trimestrales versus método de pago\n",
        "Programa de cashback y Zoop Pay\n",
        "Evaluación de los productos\n",
        "Segmentación de clientes por rango de edad y sexo biológico\n",
        "Conclusiones\n",
        "Después de que la IA Gamma generara una presentación, el enfoque fue ajustar el material pensando en tener una presentación limpia y bien estructurada para proporcionar la información de la mejor forma posible, y ajustamos los datos a la identidad visual de Zoop.\n",
        "\n",
        "No existe una respuesta única para este desafío, ya que depende de tus análisis y gráficos generados durante las clases y los desafíos. Dale alas a tu creatividad y comparte en tus redes sociales la presentación que generes."
      ],
      "metadata": {
        "id": "Q5zzPx2P5ha-"
      }
    }
  ]
}